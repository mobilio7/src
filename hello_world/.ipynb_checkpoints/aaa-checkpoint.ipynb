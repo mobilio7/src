{
 "cells": [
  {
   "cell_type": "code",
   "execution_count": 9,
   "metadata": {},
   "outputs": [],
   "source": [
    "import rospy\n",
    "import actionlib\n",
    "from move_base_msgs.msg import MoveBaseAction, MoveBaseGoal\n",
    "from math import radians, degrees, pi, sin, cos\n",
    "from actionlib_msgs.msg import *\n",
    "from geometry_msgs.msg import PoseWithCovarianceStamped\n",
    "from copy import deepcopy\n",
    "import tf"
   ]
  },
  {
   "cell_type": "code",
   "execution_count": 10,
   "metadata": {},
   "outputs": [],
   "source": [
    "rospy.init_node('map_navigation', anonymous=False)\n",
    "ac = actionlib.SimpleActionClient(\"move_base\", MoveBaseAction)"
   ]
  },
  {
   "cell_type": "code",
   "execution_count": 11,
   "metadata": {},
   "outputs": [],
   "source": [
    "current_pose = PoseWithCovarianceStamped()\n",
    "\n",
    "def callback(msg):\n",
    "    current_pose = msg"
   ]
  },
  {
   "cell_type": "code",
   "execution_count": 12,
   "metadata": {},
   "outputs": [],
   "source": [
    "odom_sub = rospy.Subscriber('/amcl_pose', \n",
    "                            PoseWithCovarianceStamped, \n",
    "                            callback)"
   ]
  },
  {
   "cell_type": "code",
   "execution_count": 13,
   "metadata": {},
   "outputs": [],
   "source": [
    "def move_to(goal_point):\n",
    "    goal = MoveBaseGoal()\n",
    "    goal.target_pose.header.frame_id = \"map\"\n",
    "    goal.target_pose.header.stamp = rospy.Time.now()\n",
    "    \n",
    "    goal.target_pose.pose.orientation.x = 0\n",
    "    goal.target_pose.pose.orientation.y = 0\n",
    "    goal.target_pose.pose.orientation.z = goal_point.z\n",
    "    goal.target_pose.pose.orientation.w = goal_point.w\n",
    "    \n",
    "    goal.target_pose.pose.position.x = goal_point.x\n",
    "    goal.target_pose.pose.position.y = goal_point.y\n",
    "    goal.target_pose.pose.position.z = 0\n",
    "    \n",
    "    print goal\n",
    "    ac.send_goal(goal) "
   ]
  },
  {
   "cell_type": "code",
   "execution_count": 6,
   "metadata": {},
   "outputs": [],
   "source": [
    "def rotate_inplace_relative(yaw):\n",
    "    global current_pose\n",
    "\n",
    "    goal = GoalPose()\n",
    "    \n",
    "    goal.x, goal.y, th_rad = cur_pos_xyth(current_pose)\n",
    "    \n",
    "    [_, _, goal.z, goal.w] =\\\n",
    "            tf.transformations.quaternion_from_euler(0, 0, \n",
    "                                                     th_rad + yaw)\n",
    "    \n",
    "    move_to(goal)"
   ]
  },
  {
   "cell_type": "code",
   "execution_count": 7,
   "metadata": {},
   "outputs": [],
   "source": [
    "def move_to_relative(l):\n",
    "    global current_pose\n",
    "    \n",
    "    [_, _, th] = cur_pos_xyth(current_pose)\n",
    "\n",
    "    goal = GoalPose()\n",
    "    \n",
    "    goal.x = current_pose.pose.pose.position.x + l*cos(th)\n",
    "    goal.y = current_pose.pose.pose.position.y + l*sin(th)\n",
    "    goal.z = current_pose.pose.pose.orientation.z\n",
    "    goal.w = current_pose.pose.pose.orientation.w\n",
    "    \n",
    "    print goal.x, goal.y\n",
    "    move_to(goal)"
   ]
  },
  {
   "cell_type": "code",
   "execution_count": 8,
   "metadata": {},
   "outputs": [],
   "source": [
    "def rotate_inplace_relative(yaw):\n",
    "    global current_pose\n",
    "\n",
    "    goal = GoalPose()\n",
    "    \n",
    "    goal.x, goal.y, th_rad = cur_pos_xyth(current_pose)\n",
    "    \n",
    "    [_, _, goal.z, goal.w] =\\\n",
    "            tf.transformations.quaternion_from_euler(0, 0, \n",
    "                                                     th_rad + yaw)\n",
    "    \n",
    "    move_to(goal)"
   ]
  },
  {
   "cell_type": "code",
   "execution_count": null,
   "metadata": {},
   "outputs": [],
   "source": []
  }
 ],
 "metadata": {
  "kernelspec": {
   "display_name": "Python 2",
   "language": "python",
   "name": "python2"
  },
  "language_info": {
   "codemirror_mode": {
    "name": "ipython",
    "version": 2
   },
   "file_extension": ".py",
   "mimetype": "text/x-python",
   "name": "python",
   "nbconvert_exporter": "python",
   "pygments_lexer": "ipython2",
   "version": "2.7.17"
  }
 },
 "nbformat": 4,
 "nbformat_minor": 2
}
